{
 "cells": [
  {
   "attachments": {},
   "cell_type": "markdown",
   "metadata": {},
   "source": [
    "En la lección de hoy aprendimos como Crearnos una clase que nos permita limpiar los datos obtenidos de la API.\n",
    "En este ejercicio, tendréis que crear una clase con el código que usamos en los ejercicios de pair programming de ETL Transformación I y II."
   ]
  },
  {
   "cell_type": "code",
   "execution_count": 17,
   "metadata": {},
   "outputs": [],
   "source": [
    "from IPython.core.interactiveshell import InteractiveShell # Nos permite mostar más de una salida por celda\n",
    "InteractiveShell.ast_node_interactivity = \"all\" # Nos permite mostar más de una salida por celda\n",
    "\n",
    "\n",
    "import pandas as pd\n",
    "import requests\n",
    "from datetime import datetime, timedelta\n",
    "import ast"
   ]
  },
  {
   "attachments": {},
   "cell_type": "markdown",
   "metadata": {},
   "source": [
    "Definimos la clase y las variables:"
   ]
  },
  {
   "cell_type": "code",
   "execution_count": 18,
   "metadata": {},
   "outputs": [],
   "source": [
    "class Extraccion_clima:\n",
    "     def __init__(self, diccionario):\n",
    "        self.diccionario = diccionario\n",
    "        "
   ]
  },
  {
   "attachments": {},
   "cell_type": "markdown",
   "metadata": {},
   "source": [
    "Y ahora vamos con los métodos:\n",
    "1. Funcion para llamar a la Api y extraer datos"
   ]
  },
  {
   "cell_type": "code",
   "execution_count": 19,
   "metadata": {},
   "outputs": [],
   "source": [
    "class Extraccion_clima:\n",
    "    def __init__(self, diccionario):\n",
    "        self.diccionario = diccionario  \n",
    "\n",
    "#definimos funcion para llamar a la api y sacar los datos.    \n",
    "    def llamada_extraccion (self, diccionario):\n",
    "        df_clima=pd.DataFrame()\n",
    "        for k, v in diccionario.items():\n",
    "            \n",
    "            url= f'http://www.7timer.info/bin/api.pl?lon={v[0]}&lat={v[1]}&product=meteo&output=json'\n",
    "            response= requests.get (url)\n",
    "            df=pd.DataFrame.from_dict(pd.json_normalize(response.json()['dataseries']))\n",
    "            df['pais']= k\n",
    "            df_clima= pd.concat([df_clima, df])\n",
    "\n",
    "            \n",
    "            if response.status_code == 200:\n",
    "                print(response.status_code,':la peticion se ha realizado correctamente:',response.reason)\n",
    "            elif response.status_code == 402:\n",
    "                print(response.status_code, ':No se ha podido autorizar:',response.reason)\n",
    "            elif response.status_code == 404:\n",
    "                print(response.status_code,':Algo ha salido mal, el recurso no se ha encontrado:',response.reason)\n",
    "            else:\n",
    "                print(response.status_code,':Algo inesperado ha ocurrido:',response.reason)\n",
    "\n",
    "            df_clima.to_csv('datos/df_clima.csv')   \n",
    "            df_clima.to_pickle('datos/df_clima.pkl') \n",
    "            return df_clima\n",
    "\n",
    "\n",
    "#definimos funcion para limpieza del df resultante\n",
    "    def limpieza_clima (self, df_clima1):\n",
    "        self.df_clima = df_clima1\n",
    "        \n",
    "    #1.para sacar columnas rh\n",
    "        \n",
    "        #df_clima['rh_profile']= df_clima['rh_profile'].apply(ast.literal_eval)\n",
    "        y_rh = df_clima1['rh_profile'].apply(pd.Series) \n",
    "        \n",
    "        for i in range(len(y_rh.columns)): \n",
    "            nombre = \"rh_\" + str(y_rh[i].apply(pd.Series)[\"layer\"][0]) \n",
    "                \n",
    "            valores = list(y_rh[i].apply(pd.Series)[\"rh\"] )\n",
    "        \n",
    "            df_clima1.insert(i, nombre, valores)\n",
    "\n",
    "    #2.para wind_profile, la columna direccion\n",
    "        \n",
    "        #df_clima['wind_profile']=df_clima['wind_profile'].apply(ast.literal_eval)\n",
    "        x_wind = df_clima1['wind_profile'].apply(pd.Series)\n",
    "\n",
    "        for i in range(len(x_wind.columns)): \n",
    "\n",
    "            nombre = \"direction\" + str(x_wind[i].apply(pd.Series)[\"layer\"][0]) \n",
    "\n",
    "            valores = list(x_wind[i].apply(pd.Series)[\"direction\"] )\n",
    "\n",
    "            df_clima1.insert(i, nombre, valores)\n",
    "\n",
    "    #3.para wind_profile, la columna speed\n",
    "        \n",
    "        for i in range(len(x_wind.columns)): \n",
    "        \n",
    "            nombre = \"speed\" + str(x_wind[i].apply(pd.Series)[\"layer\"][0]) \n",
    "    \n",
    "            valores = list(x_wind[i].apply(pd.Series)[\"speed\"] )\n",
    "\n",
    "            df_clima1.insert(i, nombre, valores)\n",
    "            \n",
    "        return df_clima1\n",
    "        \n",
    "#definimos funcion para la union del df anterior con el de tiburones\n",
    "    def union_clima_tiburones (self, df_clima2):\n",
    "\n",
    "        self.df_clima2 = df_clima2\n",
    "        df_attacks= pd.read_csv ('datos/df_attacks_limpieza_completa.csv', index_col=0)\n",
    "   \n",
    "#pasamos los nombres de los paises a minusculas para asegurarnos que se puede hacer un mergeo    \n",
    "        df_clima2['pais'] = df_clima2['pais'].apply (lambda x : x.lower() )\n",
    "\n",
    "#agrupamos el df clima por paises y le pedimos la media de las variables\n",
    "        df_clima_agrupado = df_clima2.groupby (['pais']).mean()\n",
    "\n",
    "#filtramos df attacks para quedarnos con los paises que queremos\n",
    "        df_attacks2 = df_attacks[df_attacks['country'].isin (['usa','australia', 'papua new guinea','new zealand','south africa'])]\n",
    "\n",
    "#juntamos\n",
    "        df_clima_ataques=pd.merge(df_attacks2, df_clima_agrupado, right_on='pais', left_on='country')    \n",
    "\n",
    "#guardamos    \n",
    "        df_clima_ataques.to_csv('datos/df_clima_ataques.csv')\n",
    "        df_clima_ataques.to_pickle('datos/df_clima_ataques.pkl')\n",
    "\n",
    "        return df_clima_ataques\n"
   ]
  },
  {
   "attachments": {},
   "cell_type": "markdown",
   "metadata": {},
   "source": [
    "Comprobamos"
   ]
  },
  {
   "cell_type": "code",
   "execution_count": 20,
   "metadata": {},
   "outputs": [],
   "source": [
    "diccionario_prueba={'USA':['-100.445882', '39.7837304'], 'Australia':['134.755', '-24.7761086'], 'South Africa':['24.991639', '-28.8166236'],'New Zealand': ['172.8344077', '-41.5000831'], 'Papua New Guinea': ['144.2489081','-5.6816069' ] }"
   ]
  },
  {
   "cell_type": "code",
   "execution_count": 21,
   "metadata": {},
   "outputs": [],
   "source": [
    "api = Extraccion_clima(diccionario_prueba)"
   ]
  },
  {
   "cell_type": "code",
   "execution_count": 22,
   "metadata": {},
   "outputs": [
    {
     "name": "stdout",
     "output_type": "stream",
     "text": [
      "200 :la peticion se ha realizado correctamente: OK\n"
     ]
    }
   ],
   "source": [
    "df_extraccion= api.llamada_extraccion(diccionario_prueba)\n"
   ]
  },
  {
   "cell_type": "code",
   "execution_count": 23,
   "metadata": {},
   "outputs": [
    {
     "data": {
      "text/html": [
       "<div>\n",
       "<style scoped>\n",
       "    .dataframe tbody tr th:only-of-type {\n",
       "        vertical-align: middle;\n",
       "    }\n",
       "\n",
       "    .dataframe tbody tr th {\n",
       "        vertical-align: top;\n",
       "    }\n",
       "\n",
       "    .dataframe thead th {\n",
       "        text-align: right;\n",
       "    }\n",
       "</style>\n",
       "<table border=\"1\" class=\"dataframe\">\n",
       "  <thead>\n",
       "    <tr style=\"text-align: right;\">\n",
       "      <th></th>\n",
       "      <th>timepoint</th>\n",
       "      <th>cloudcover</th>\n",
       "      <th>highcloud</th>\n",
       "      <th>midcloud</th>\n",
       "      <th>lowcloud</th>\n",
       "      <th>rh_profile</th>\n",
       "      <th>wind_profile</th>\n",
       "      <th>temp2m</th>\n",
       "      <th>lifted_index</th>\n",
       "      <th>rh2m</th>\n",
       "      <th>msl_pressure</th>\n",
       "      <th>prec_type</th>\n",
       "      <th>prec_amount</th>\n",
       "      <th>snow_depth</th>\n",
       "      <th>wind10m.direction</th>\n",
       "      <th>wind10m.speed</th>\n",
       "      <th>pais</th>\n",
       "    </tr>\n",
       "  </thead>\n",
       "  <tbody>\n",
       "    <tr>\n",
       "      <th>0</th>\n",
       "      <td>3</td>\n",
       "      <td>5</td>\n",
       "      <td>-9999</td>\n",
       "      <td>-9999</td>\n",
       "      <td>-9999</td>\n",
       "      <td>[{'layer': '950mb', 'rh': -9999}, {'layer': '9...</td>\n",
       "      <td>[{'layer': '950mb', 'direction': -9999, 'speed...</td>\n",
       "      <td>-2</td>\n",
       "      <td>15</td>\n",
       "      <td>12</td>\n",
       "      <td>1032</td>\n",
       "      <td>none</td>\n",
       "      <td>0</td>\n",
       "      <td>-9999</td>\n",
       "      <td>300</td>\n",
       "      <td>3</td>\n",
       "      <td>USA</td>\n",
       "    </tr>\n",
       "    <tr>\n",
       "      <th>1</th>\n",
       "      <td>6</td>\n",
       "      <td>6</td>\n",
       "      <td>-9999</td>\n",
       "      <td>-9999</td>\n",
       "      <td>-9999</td>\n",
       "      <td>[{'layer': '950mb', 'rh': -9999}, {'layer': '9...</td>\n",
       "      <td>[{'layer': '950mb', 'direction': -9999, 'speed...</td>\n",
       "      <td>3</td>\n",
       "      <td>15</td>\n",
       "      <td>7</td>\n",
       "      <td>1031</td>\n",
       "      <td>none</td>\n",
       "      <td>0</td>\n",
       "      <td>1</td>\n",
       "      <td>330</td>\n",
       "      <td>3</td>\n",
       "      <td>USA</td>\n",
       "    </tr>\n",
       "  </tbody>\n",
       "</table>\n",
       "</div>"
      ],
      "text/plain": [
       "   timepoint  cloudcover  highcloud  midcloud  lowcloud  \\\n",
       "0          3           5      -9999     -9999     -9999   \n",
       "1          6           6      -9999     -9999     -9999   \n",
       "\n",
       "                                          rh_profile  \\\n",
       "0  [{'layer': '950mb', 'rh': -9999}, {'layer': '9...   \n",
       "1  [{'layer': '950mb', 'rh': -9999}, {'layer': '9...   \n",
       "\n",
       "                                        wind_profile  temp2m  lifted_index  \\\n",
       "0  [{'layer': '950mb', 'direction': -9999, 'speed...      -2            15   \n",
       "1  [{'layer': '950mb', 'direction': -9999, 'speed...       3            15   \n",
       "\n",
       "   rh2m  msl_pressure prec_type  prec_amount  snow_depth wind10m.direction  \\\n",
       "0    12          1032      none            0       -9999               300   \n",
       "1     7          1031      none            0           1               330   \n",
       "\n",
       "   wind10m.speed pais  \n",
       "0              3  USA  \n",
       "1              3  USA  "
      ]
     },
     "execution_count": 23,
     "metadata": {},
     "output_type": "execute_result"
    }
   ],
   "source": [
    "df_extraccion.head(2)"
   ]
  },
  {
   "cell_type": "code",
   "execution_count": 24,
   "metadata": {},
   "outputs": [],
   "source": [
    "df_limpieza_clima=api.limpieza_clima (df_extraccion)"
   ]
  }
 ],
 "metadata": {
  "kernelspec": {
   "display_name": "Python 3",
   "language": "python",
   "name": "python3"
  },
  "language_info": {
   "codemirror_mode": {
    "name": "ipython",
    "version": 3
   },
   "file_extension": ".py",
   "mimetype": "text/x-python",
   "name": "python",
   "nbconvert_exporter": "python",
   "pygments_lexer": "ipython3",
   "version": "3.10.9"
  },
  "orig_nbformat": 4,
  "vscode": {
   "interpreter": {
    "hash": "386358fdc1fd0de6900d07d882f42fc953f23690ede61ed9b4d9d7c82a6402d7"
   }
  }
 },
 "nbformat": 4,
 "nbformat_minor": 2
}
