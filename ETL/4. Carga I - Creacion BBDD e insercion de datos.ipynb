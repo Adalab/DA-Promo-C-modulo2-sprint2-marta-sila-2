{
 "cells": [
  {
   "cell_type": "code",
   "execution_count": 1,
   "metadata": {},
   "outputs": [],
   "source": [
    "import pandas as pd\n",
    "import mysql.connector"
   ]
  },
  {
   "attachments": {},
   "cell_type": "markdown",
   "metadata": {},
   "source": [
    "Es el momento de meter todos nuestros datos en SQL 💪🏽!!! En este ejercicio nos crearemos dos tablas en una BBDD creada por nosotras. Una de las tablas contendrá la información que obtuvimos de los ejercicios de pair programming de Limpieza, es decir, el data set de ataques de tiburones limpito. La segunda tabla tendrá la información obtenida en el ejercicio de pair de ETL.\n",
    "\n",
    "📌 Nota Todo lo tendremos que hacer desde jupyter notebook\n",
    "1. Cread la BBDD con el nombre de tiburones.\n",
    "2. Cread las tablas de la BBDD:\n",
    "    Tabla ataques\n",
    "    Tabla clima\n"
   ]
  },
  {
   "attachments": {},
   "cell_type": "markdown",
   "metadata": {},
   "source": [
    "------------"
   ]
  },
  {
   "cell_type": "code",
   "execution_count": 2,
   "metadata": {},
   "outputs": [],
   "source": [
    "df_ataques = pd.read_csv('datos/limpieza_cuatro.csv', index_col=0)"
   ]
  },
  {
   "cell_type": "code",
   "execution_count": 3,
   "metadata": {},
   "outputs": [],
   "source": [
    "df_clima= pd.read_csv('datos/datos_union_clima_ataques.csv', index_col=0)"
   ]
  },
  {
   "attachments": {},
   "cell_type": "markdown",
   "metadata": {},
   "source": [
    "Definimos función para crear la BBDD."
   ]
  },
  {
   "cell_type": "code",
   "execution_count": 4,
   "metadata": {},
   "outputs": [],
   "source": [
    "def crear_bbdd (nombre_bbdd):\n",
    "\n",
    "    mydb = mysql.connector.connect(\n",
    "      host=\"localhost\",\n",
    "      user=\"root\",\n",
    "      password=\"AlumnaAdalab\" \n",
    "    )\n",
    "    print(\"Conexión realizada con éxito\")\n",
    "    \n",
    "    mycursor = mydb.cursor()\n",
    "\n",
    "    try:\n",
    "        mycursor.execute(f\"CREATE DATABASE IF NOT EXISTS {nombre_bbdd};\")\n",
    "        print(mycursor)\n",
    "    except mysql.connector.Error as err:\n",
    "        print(err)\n",
    "        print(\"Error Code:\", err.errno)\n",
    "        print(\"SQLSTATE\", err.sqlstate)\n",
    "        print(\"Message\", err.msg)\n"
   ]
  },
  {
   "cell_type": "code",
   "execution_count": 5,
   "metadata": {},
   "outputs": [
    {
     "name": "stdout",
     "output_type": "stream",
     "text": [
      "Conexión realizada con éxito\n",
      "MySQLCursor: CREATE DATABASE IF NOT EXISTS tiburones;\n"
     ]
    }
   ],
   "source": [
    "mydb = crear_bbdd(\"tiburones\")"
   ]
  },
  {
   "attachments": {},
   "cell_type": "markdown",
   "metadata": {},
   "source": [
    "Definimos función para crear tablas "
   ]
  },
  {
   "cell_type": "code",
   "execution_count": 6,
   "metadata": {},
   "outputs": [],
   "source": [
    "def crear_tabla (nombre_bbdd, contraseña, query):\n",
    "    \n",
    "    cnx = mysql.connector.connect(user='root', password=f\"{contraseña}\",\n",
    "                                     host='localhost', database=f\"{nombre_bbdd}\")\n",
    "    \n",
    "    mycursor = cnx.cursor()\n",
    "    \n",
    "    try: \n",
    "        mycursor.execute(query)\n",
    "        cnx.commit() \n",
    "    \n",
    "    except mysql.connector.Error as err:\n",
    "        print(err)\n",
    "        print(\"Error Code:\", err.errno)\n",
    "        print(\"SQLSTATE\", err.sqlstate)\n",
    "        print(\"Message\", err.msg)"
   ]
  },
  {
   "attachments": {},
   "cell_type": "markdown",
   "metadata": {},
   "source": [
    "Preparamos las query de la tabla ataques"
   ]
  },
  {
   "cell_type": "code",
   "execution_count": 7,
   "metadata": {},
   "outputs": [
    {
     "data": {
      "text/plain": [
       "Index(['year', 'country', 'sex_', 'fecha', 'fatalidad', 'nueva_especie',\n",
       "       'edad_limpia'],\n",
       "      dtype='object')"
      ]
     },
     "execution_count": 7,
     "metadata": {},
     "output_type": "execute_result"
    }
   ],
   "source": [
    "df_ataques.columns"
   ]
  },
  {
   "cell_type": "code",
   "execution_count": 8,
   "metadata": {},
   "outputs": [
    {
     "data": {
      "text/plain": [
       "year               0\n",
       "country            0\n",
       "sex_             124\n",
       "fecha              0\n",
       "fatalidad          0\n",
       "nueva_especie      0\n",
       "edad_limpia      150\n",
       "dtype: int64"
      ]
     },
     "execution_count": 8,
     "metadata": {},
     "output_type": "execute_result"
    }
   ],
   "source": [
    "df_ataques.isnull().sum()"
   ]
  },
  {
   "attachments": {},
   "cell_type": "markdown",
   "metadata": {},
   "source": [
    "Eliminamos los nulos para evitar el erros en SQL y comprobamos."
   ]
  },
  {
   "cell_type": "code",
   "execution_count": 9,
   "metadata": {},
   "outputs": [],
   "source": [
    "df_ataques.dropna(how = \"any\", inplace=True )"
   ]
  },
  {
   "cell_type": "code",
   "execution_count": 10,
   "metadata": {},
   "outputs": [
    {
     "data": {
      "text/plain": [
       "year               int64\n",
       "country           object\n",
       "sex_              object\n",
       "fecha             object\n",
       "fatalidad         object\n",
       "nueva_especie     object\n",
       "edad_limpia      float64\n",
       "dtype: object"
      ]
     },
     "execution_count": 10,
     "metadata": {},
     "output_type": "execute_result"
    }
   ],
   "source": [
    "df_ataques.dtypes"
   ]
  },
  {
   "cell_type": "code",
   "execution_count": 11,
   "metadata": {},
   "outputs": [],
   "source": [
    "tabla_ataques = '''\n",
    "CREATE TABLE IF NOT EXISTS `tiburones`.`ataques` (\n",
    "  id_ataques INT NOT NULL AUTO_INCREMENT,\n",
    "  pais VARCHAR (100) ,\n",
    "  sexo VARCHAR (100),\n",
    "  fecha VARCHAR (100),\n",
    "  fatalidad VARCHAR(100) ,\n",
    "  especie VARCHAR (100),\n",
    "  edad INT ,\n",
    "  PRIMARY KEY (`id_ataques`))\n",
    "ENGINE = InnoDB;\n",
    "'''"
   ]
  },
  {
   "attachments": {},
   "cell_type": "markdown",
   "metadata": {},
   "source": [
    "Preparamos las query de la tabla clima"
   ]
  },
  {
   "cell_type": "code",
   "execution_count": 12,
   "metadata": {},
   "outputs": [
    {
     "data": {
      "text/plain": [
       "Index(['case_number', 'year', 'type', 'country', 'area', 'location',\n",
       "       'activity', 'name', 'age', 'time', 'species_', 'injury', 'fecha_limpia',\n",
       "       'fatal', 'sex', 'pais', 'rh_950mb', 'rh_900mb', 'rh_850mb', 'rh_800mb',\n",
       "       'rh_750mb', 'rh_700mb', 'rh_650mb', 'rh_600mb', 'rh_550mb', 'rh_500mb',\n",
       "       'rh_450mb', 'rh_400mb', 'rh_350mb', 'rh_300mb', 'rh_250mb', 'rh_200mb',\n",
       "       'wind_950mb', 'wind_900mb', 'wind_850mb', 'wind_800mb', 'wind_750mb',\n",
       "       'wind_700mb', 'wind_650mb', 'wind_600mb', 'wind_550mb', 'wind_500mb',\n",
       "       'wind_450mb', 'wind_400mb', 'wind_350mb', 'wind_300mb', 'wind_250mb',\n",
       "       'wind_200mb', 'index', 'timepoint', 'cloudcover', 'highcloud',\n",
       "       'midcloud', 'lowcloud', 'temp2m', 'lifted_index', 'rh2m',\n",
       "       'msl_pressure', 'prec_amount', 'snow_depth', 'wind10m.direction',\n",
       "       'wind10m.speed'],\n",
       "      dtype='object')"
      ]
     },
     "execution_count": 12,
     "metadata": {},
     "output_type": "execute_result"
    }
   ],
   "source": [
    "df_clima.columns"
   ]
  },
  {
   "cell_type": "code",
   "execution_count": 13,
   "metadata": {},
   "outputs": [
    {
     "name": "stdout",
     "output_type": "stream",
     "text": [
      "<class 'pandas.core.frame.DataFrame'>\n",
      "Int64Index: 4395 entries, 0 to 4394\n",
      "Data columns (total 62 columns):\n",
      " #   Column             Non-Null Count  Dtype  \n",
      "---  ------             --------------  -----  \n",
      " 0   case_number        4394 non-null   object \n",
      " 1   year               4395 non-null   float64\n",
      " 2   type               4394 non-null   object \n",
      " 3   country            4395 non-null   object \n",
      " 4   area               4363 non-null   object \n",
      " 5   location           4276 non-null   object \n",
      " 6   activity           4066 non-null   object \n",
      " 7   name               4325 non-null   object \n",
      " 8   age                2681 non-null   object \n",
      " 9   time               2395 non-null   object \n",
      " 10  species_           2647 non-null   object \n",
      " 11  injury             4381 non-null   object \n",
      " 12  fecha_limpia       4148 non-null   object \n",
      " 13  fatal              3975 non-null   object \n",
      " 14  sex                4059 non-null   object \n",
      " 15  pais               4395 non-null   object \n",
      " 16  rh_950mb           4395 non-null   float64\n",
      " 17  rh_900mb           4395 non-null   float64\n",
      " 18  rh_850mb           4395 non-null   float64\n",
      " 19  rh_800mb           4395 non-null   float64\n",
      " 20  rh_750mb           4395 non-null   float64\n",
      " 21  rh_700mb           4395 non-null   float64\n",
      " 22  rh_650mb           4395 non-null   float64\n",
      " 23  rh_600mb           4395 non-null   float64\n",
      " 24  rh_550mb           4395 non-null   float64\n",
      " 25  rh_500mb           4395 non-null   float64\n",
      " 26  rh_450mb           4395 non-null   float64\n",
      " 27  rh_400mb           4395 non-null   float64\n",
      " 28  rh_350mb           4395 non-null   float64\n",
      " 29  rh_300mb           4395 non-null   float64\n",
      " 30  rh_250mb           4395 non-null   float64\n",
      " 31  rh_200mb           4395 non-null   float64\n",
      " 32  wind_950mb         4395 non-null   float64\n",
      " 33  wind_900mb         4395 non-null   float64\n",
      " 34  wind_850mb         4395 non-null   float64\n",
      " 35  wind_800mb         4395 non-null   float64\n",
      " 36  wind_750mb         4395 non-null   float64\n",
      " 37  wind_700mb         4395 non-null   float64\n",
      " 38  wind_650mb         4395 non-null   float64\n",
      " 39  wind_600mb         4395 non-null   float64\n",
      " 40  wind_550mb         4395 non-null   float64\n",
      " 41  wind_500mb         4395 non-null   float64\n",
      " 42  wind_450mb         4395 non-null   float64\n",
      " 43  wind_400mb         4395 non-null   float64\n",
      " 44  wind_350mb         4395 non-null   float64\n",
      " 45  wind_300mb         4395 non-null   float64\n",
      " 46  wind_250mb         4395 non-null   float64\n",
      " 47  wind_200mb         4395 non-null   float64\n",
      " 48  index              4395 non-null   float64\n",
      " 49  timepoint          4395 non-null   float64\n",
      " 50  cloudcover         4395 non-null   float64\n",
      " 51  highcloud          4395 non-null   float64\n",
      " 52  midcloud           4395 non-null   float64\n",
      " 53  lowcloud           4395 non-null   float64\n",
      " 54  temp2m             4395 non-null   float64\n",
      " 55  lifted_index       4395 non-null   float64\n",
      " 56  rh2m               4395 non-null   float64\n",
      " 57  msl_pressure       4395 non-null   float64\n",
      " 58  prec_amount        4395 non-null   float64\n",
      " 59  snow_depth         4395 non-null   float64\n",
      " 60  wind10m.direction  4395 non-null   float64\n",
      " 61  wind10m.speed      4395 non-null   float64\n",
      "dtypes: float64(47), object(15)\n",
      "memory usage: 2.1+ MB\n"
     ]
    }
   ],
   "source": [
    "df_clima.info()"
   ]
  },
  {
   "attachments": {},
   "cell_type": "markdown",
   "metadata": {},
   "source": [
    "De todas esta columnas, entendemos que coger solo las del clima ya que en el enunciado del ejercicio se dice que hay que crear dos tablas: una de ataques y otra de clima."
   ]
  },
  {
   "cell_type": "code",
   "execution_count": 14,
   "metadata": {},
   "outputs": [],
   "source": [
    "tabla_clima = '''\n",
    "CREATE TABLE IF NOT EXISTS `tiburones`.`clima` (\n",
    "  id_clima INT NOT NULL AUTO_INCREMENT,\n",
    "  pais VARCHAR DEFAULT NULL, \n",
    "  rh_950mb DECIMAL , \n",
    "  rh_900mb DECIMAL , \n",
    "  rh_850mb DECIMAL , \n",
    "  rh_800mb DECIMAL ,\n",
    "  rh_750mb DECIMAL , \n",
    "  rh_700mb DECIMAL , \n",
    "  rh_650mb DECIMAL  , \n",
    "  rh_600mb DECIMAL  , \n",
    "  rh_550mb DECIMAL  , \n",
    "  rh_500mb DECIMAL  ,\n",
    "  rh_450mb DECIMAL  , \n",
    "  rh_400mb DECIMAL  , \n",
    "  rh_350mb DECIMAL  , \n",
    "  rh_300mb DECIMAL  , \n",
    "  rh_250mb DECIMAL  , \n",
    "  rh_200mb DECIMAL  ,\n",
    "  wind_950mb  DECIMAL  , \n",
    "  wind_900mb DECIMAL , \n",
    "  wind_850mb DECIMAL  , \n",
    "  wind_800mb DECIMAL , \n",
    "  wind_750mb  DECIMAL ,\n",
    "  wind_700mb  DECIMAL  , \n",
    "  wind_650mb  DECIMAL  , \n",
    "  wind_600mb  DECIMAL  , \n",
    "  wind_550mb  DECIMAL  , \n",
    "  wind_500mb  DECIMAL  ,\n",
    "  wind_450mb DECIMAL , \n",
    "  wind_400mb DECIMAL , \n",
    "  wind_350mb DECIMAL  , \n",
    "  wind_300mb DECIMAL , \n",
    "  wind_250mb DECIMAL ,\n",
    "  wind_200mb DECIMAL , \n",
    "  index INT DECIMAL , \n",
    "  timepoint DECIMAL , \n",
    "  cloudcover DECIMAL , \n",
    "  highcloud DECIMAL ,\n",
    "  midcloud DECIMAL , \n",
    "  lowcloud DECIMAL , \n",
    "  temp2m DECIMAL, \n",
    "  lifted_index DECIMAL, \n",
    "  rh2m DECIMAL,\n",
    "  msl_pressure DECIMAL, \n",
    "  prec_amount DECIMAL, \n",
    "  snow_depth DECIMAL, \n",
    "  wind10m.direction DECIMAL,\n",
    "  wind10m.speed DECIMAL,\n",
    "  PRIMARY KEY (id_clima),\n",
    "  CONSTRAINT `fk_tabla_clima_tabla_ataques`\n",
    "          FOREIGN KEY (id_ataques),\n",
    "    REFERENCES `tiburones`.`ataques` (id_ataques))\n",
    "ENGINE = InnoDB;\n",
    "'''"
   ]
  },
  {
   "attachments": {},
   "cell_type": "markdown",
   "metadata": {},
   "source": [
    "Creamos las tablas \n",
    "-Nota: con la ultima tabla, nos damos por vencidas, ha sido del todo imposible encontrar el error."
   ]
  },
  {
   "cell_type": "code",
   "execution_count": 15,
   "metadata": {},
   "outputs": [],
   "source": [
    "crear_tabla ('tiburones', 'AlumnaAdalab', tabla_ataques)"
   ]
  },
  {
   "cell_type": "code",
   "execution_count": 16,
   "metadata": {},
   "outputs": [
    {
     "name": "stdout",
     "output_type": "stream",
     "text": [
      "1064 (42000): You have an error in your SQL syntax; check the manual that corresponds to your MySQL server version for the right syntax to use near 'DEFAULT NULL, \n",
      "  rh_950mb DECIMAL , \n",
      "  rh_900mb DECIMAL , \n",
      "  rh_850mb DECIMAL , ' at line 3\n",
      "Error Code: 1064\n",
      "SQLSTATE 42000\n",
      "Message You have an error in your SQL syntax; check the manual that corresponds to your MySQL server version for the right syntax to use near 'DEFAULT NULL, \n",
      "  rh_950mb DECIMAL , \n",
      "  rh_900mb DECIMAL , \n",
      "  rh_850mb DECIMAL , ' at line 3\n"
     ]
    }
   ],
   "source": [
    "crear_tabla ('tiburones', 'AlumnaAdalab', tabla_clima)"
   ]
  }
 ],
 "metadata": {
  "kernelspec": {
   "display_name": "Python 3",
   "language": "python",
   "name": "python3"
  },
  "language_info": {
   "codemirror_mode": {
    "name": "ipython",
    "version": 3
   },
   "file_extension": ".py",
   "mimetype": "text/x-python",
   "name": "python",
   "nbconvert_exporter": "python",
   "pygments_lexer": "ipython3",
   "version": "3.10.9"
  },
  "orig_nbformat": 4,
  "vscode": {
   "interpreter": {
    "hash": "386358fdc1fd0de6900d07d882f42fc953f23690ede61ed9b4d9d7c82a6402d7"
   }
  }
 },
 "nbformat": 4,
 "nbformat_minor": 2
}
