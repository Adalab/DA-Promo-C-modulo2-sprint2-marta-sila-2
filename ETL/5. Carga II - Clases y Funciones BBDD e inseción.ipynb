{
 "cells": [
  {
   "cell_type": "code",
   "execution_count": 2,
   "metadata": {},
   "outputs": [],
   "source": [
    "import pandas as pd\n",
    "\n",
    "import mysql.connector"
   ]
  },
  {
   "attachments": {},
   "cell_type": "markdown",
   "metadata": {},
   "source": [
    "Igual que en el ejercicio de pair programming de ETL Transformación II, tendréis que crear una clase que nos permita cargar los datos en SQL I."
   ]
  },
  {
   "cell_type": "code",
   "execution_count": 5,
   "metadata": {},
   "outputs": [],
   "source": [
    "class creacion_Sql:\n",
    "\n",
    "    def __init__(self, nombre_bbdd, contraseña):\n",
    "        self.nombre_bbdd= nombre_bbdd\n",
    "        self.contraseña=contraseña \n",
    "\n",
    "#creamos la funcion para crear la bbdd\n",
    "    def crear_bbdd (self):\n",
    "\n",
    "        mydb = mysql.connector.connect(host=\"localhost\",\n",
    "                                        user=\"root\",\n",
    "                                        password=self.contraseña)\n",
    "    \n",
    "        mycursor = mydb.cursor()\n",
    "        print(\"Conexión realizada con éxito\")\n",
    "\n",
    "\n",
    "        try:\n",
    "            mycursor.execute(\"CREATE DATABASE IF NOT EXISTS {self.nombre_bbdd};\")\n",
    "            print(mycursor)\n",
    "    \n",
    "        \n",
    "        except mysql.connector.Error as err:\n",
    "            print(\"La BBDD ya existe\")\n",
    "            print(err)\n",
    "            print(\"Error Code:\", err.errno)\n",
    "            print(\"SQLSTATE\", err.sqlstate)\n",
    "            print(\"Message\", err.msg)\n",
    "\n",
    "\n",
    "\n",
    "    def crear_insertar_tabla (self, query):\n",
    "        \n",
    "        mybd = mysql.connector.connect ( host='localhost', user='root', password=self.contraseña,\n",
    "                                        database= self.nombre_bbdd)\n",
    "        \n",
    "        mycursor = mybd.cursor()\n",
    "        \n",
    "        try: \n",
    "            mycursor.execute(query)\n",
    "            mybd.commit() \n",
    "        \n",
    "        except mysql.connector.Error as err:\n",
    "            print(err)\n",
    "            print(\"Error Code:\", err.errno)\n",
    "            print(\"SQLSTATE\", err.sqlstate)\n",
    "            print(\"Message\", err.msg)\n"
   ]
  }
 ],
 "metadata": {
  "kernelspec": {
   "display_name": "Python 3",
   "language": "python",
   "name": "python3"
  },
  "language_info": {
   "codemirror_mode": {
    "name": "ipython",
    "version": 3
   },
   "file_extension": ".py",
   "mimetype": "text/x-python",
   "name": "python",
   "nbconvert_exporter": "python",
   "pygments_lexer": "ipython3",
   "version": "3.10.9"
  },
  "orig_nbformat": 4,
  "vscode": {
   "interpreter": {
    "hash": "386358fdc1fd0de6900d07d882f42fc953f23690ede61ed9b4d9d7c82a6402d7"
   }
  }
 },
 "nbformat": 4,
 "nbformat_minor": 2
}
